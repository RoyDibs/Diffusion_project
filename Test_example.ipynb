{
 "cells": [
  {
   "cell_type": "code",
   "execution_count": 3,
   "id": "3606fb3a-c4c9-4276-a762-2bcacbc12ac2",
   "metadata": {},
   "outputs": [
    {
     "ename": "ImportError",
     "evalue": "libmkl_scalapack_lp64.so: cannot open shared object file: No such file or directory",
     "output_type": "error",
     "traceback": [
      "\u001b[0;31m---------------------------------------------------------------------------\u001b[0m",
      "\u001b[0;31mImportError\u001b[0m                               Traceback (most recent call last)",
      "Cell \u001b[0;32mIn[3], line 1\u001b[0m\n\u001b[0;32m----> 1\u001b[0m \u001b[38;5;28;01mimport\u001b[39;00m \u001b[38;5;21;01mdiffusion_env\u001b[39;00m\n\u001b[1;32m      2\u001b[0m \u001b[38;5;28;01mimport\u001b[39;00m \u001b[38;5;21;01mnumpy\u001b[39;00m \u001b[38;5;28;01mas\u001b[39;00m \u001b[38;5;21;01mnp\u001b[39;00m\n\u001b[1;32m      4\u001b[0m \u001b[38;5;28mprint\u001b[39m(\u001b[38;5;124m'\u001b[39m\u001b[38;5;124mCreating finite element environment...\u001b[39m\u001b[38;5;124m'\u001b[39m)\n",
      "\u001b[0;31mImportError\u001b[0m: libmkl_scalapack_lp64.so: cannot open shared object file: No such file or directory"
     ]
    }
   ],
   "source": [
    "import diffusion_env\n",
    "import numpy as np\n",
    "\n",
    "print('Creating finite element environment...')\n",
    "env = diffusion_env.DiffusionEnvironment(refinement_level=3)\n",
    "print(f'Environment created with {env.get_num_dofs()} degrees of freedom')\n",
    "\n",
    "print('Testing mesh point extraction...')\n",
    "mesh_points = env.get_mesh_points()\n",
    "print(f'Extracted {len(mesh_points)} mesh points')\n",
    "print(f'Mesh domain spans: x=[{min(p[0] for p in mesh_points):.3f}, {max(p[0] for p in mesh_points):.3f}]')\n",
    "print(f'                   y=[{min(p[1] for p in mesh_points):.3f}, {max(p[1] for p in mesh_points):.3f}]')\n",
    "\n",
    "print('Basic functionality verification completed successfully!')"
   ]
  },
  {
   "cell_type": "code",
   "execution_count": null,
   "id": "8bdae904-a0b1-4fc4-b971-69417077f25b",
   "metadata": {},
   "outputs": [],
   "source": []
  }
 ],
 "metadata": {
  "kernelspec": {
   "display_name": "Python (jax_torch2.venv)",
   "language": "python",
   "name": "jax_torch_2_kernel"
  },
  "language_info": {
   "codemirror_mode": {
    "name": "ipython",
    "version": 3
   },
   "file_extension": ".py",
   "mimetype": "text/x-python",
   "name": "python",
   "nbconvert_exporter": "python",
   "pygments_lexer": "ipython3",
   "version": "3.11.6"
  }
 },
 "nbformat": 4,
 "nbformat_minor": 5
}
